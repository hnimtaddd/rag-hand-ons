{
 "cells": [
  {
   "cell_type": "markdown",
   "metadata": {},
   "source": [
    "## Overview\n",
    "Large language model or LLMs such as ChatGPT can answer a wide range of questions, but an LLM in isolation knows only what it was trained on, which doesn't include our personal data, such as our company's private data, as well as data or articles the were written after the model was trained.\n",
    "\n",
    "In this session we will workaround this limitation by different techniques."
   ]
  }
 ],
 "metadata": {
  "language_info": {
   "name": "python"
  }
 },
 "nbformat": 4,
 "nbformat_minor": 2
}
