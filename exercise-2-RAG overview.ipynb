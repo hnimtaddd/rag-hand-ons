{
 "cells": [
  {
   "cell_type": "markdown",
   "metadata": {},
   "source": [
    "## Hand-ons with RAG model and Langchain framework\n",
    "\n",
    "\n",
    "The execercise 1 have the promblem with rate limiting of AI model\n",
    "So we will find the solution for this problem.\n",
    "One of the solution is to reduce the length of the prompt that we send to the model\n",
    "By using this approach, we have 2 main benefits:\n",
    "1. Reduce resources to generate the response\n",
    "2. Enable the model to focus on the specific infomation that we want to get\n",
    "\n",
    "One technique to achive this is to apply the RAG model to our base model\n",
    "\n",
    "References:\n",
    "- [LangChain for LLM Application Development](https://learn.deeplearning.ai/courses/langchain)\n",
    "- [LangChain Chat with Your Data](https://learn.deeplearning.ai/courses/langchain-chat-with-your-data)\n",
    "\n",
    "The initial code is the same as excercise 1, we will apply the RAG model to the chain only\n",
    "\n",
    "This hand-ons is only for an eye of bird view of the RAG model, the more detail concept will be dicussed in sequence hand-ons\n",
    "\n",
    "![rag.png](./public/rag.png)"
   ]
  },
  {
   "cell_type": "markdown",
   "metadata": {},
   "source": [
    "During the hand-ons, we will go through different components of the RAG model, and at the end, we will able to create a Q&A agent that can answer the question based on the given context.\n",
    "\n",
    "The RAG model is a model that combines the retrieval-augmented generation model with the language model. The RAG model consists of 5 main components:\n",
    "1. DocumentLoading: This component is responsible for loading the documents that will be used to generate the response. The documents can be loaded from various sources such as the web, databases, or local files.\n",
    "2. Splitting: This component is responsible for splitting the documents into smaller chunks to improve the efficiency of the retrieval process.\n",
    "3. Storage: This component is responsible for storing the documents in a retrievable format to enable fast retrieval.\n",
    "4. Retrieval: This component is responsible for retrieving the relevant documents based on the input query.\n",
    "5. Output: This component is responsible for generating the response based on the retrieved documents and the input query.\n",
    "\n",
    "The detail of each component will be discussed in the following hand-ons"
   ]
  }
 ],
 "metadata": {
  "kernelspec": {
   "display_name": "Python 3",
   "language": "python",
   "name": "python3"
  },
  "language_info": {
   "codemirror_mode": {
    "name": "ipython",
    "version": 3
   },
   "file_extension": ".py",
   "mimetype": "text/x-python",
   "name": "python",
   "nbconvert_exporter": "python",
   "pygments_lexer": "ipython3",
   "version": "3.10.14"
  }
 },
 "nbformat": 4,
 "nbformat_minor": 2
}
