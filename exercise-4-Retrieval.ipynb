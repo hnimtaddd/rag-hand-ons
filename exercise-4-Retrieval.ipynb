{
 "cells": [
  {
   "cell_type": "markdown",
   "metadata": {},
   "source": [
    "## Retrieval\n",
    "\n",
    "Retrival is the 4th stage of the pipeline. It's a process to find relevant informations from the knowledge store (could be vector database, or document database), then feed them into the next stage of the pipeline.\n",
    "\n",
    "\n",
    "There are some techniques that could be used in this phrase, such as:\n",
    "### Query-optimize:\n",
    "Naive retrieval, retrive documents based on the question directly. \n",
    "\n",
    "Hypothetical Document Embeddings (HyDE), use model to generate `hypothetical answers` then retrive similar documents based on the hypothetical answers.\n",
    "\n",
    "![hyde.png](./public/hyde.png)\n",
    "\n",
    "[reference: Enhancing RAG with Hypothetical Document Embedding](https://www.analyticsvidhya.com/blog/2024/04/enhancing-rag-with-hypothetical-document-embedding/)\n",
    "\n",
    "\n",
    "\n",
    "Multi-Query Retriever, use model to reword the question into multiple questions, then retrive documents based on these questions.  \n",
    "![multi-query.png](./public/multi-query.png)\n",
    "\n",
    "[reference: 3 Query Expansion Methods Implemented Using Langchain to Improve Your RAG](https://levelup.gitconnected.com/3-query-expansion-methods-implemented-using-langchain-to-improve-your-rag-81078c1330cd)\n",
    "\n",
    "### Retrieval-optimize:\n",
    "Maximal Marginal Relevant (MMR), use model to select the most relevant documents based on the question.\n",
    "\n",
    "![mmr.png](./public/mmr.png)\n",
    "[reference: RAG:MMR Search in Langchain](https://www.kaggle.com/code/marcinrutecki/rag-mmr-search-in-langchain)\n",
    "\n",
    "\n",
    "Contextual compression, use model to decide which documents are related to the question.\n",
    "\n",
    "![contextual-compression.png](./public/contextual-compression.png)\n",
    "\n",
    "[reference: How To Optimize Your RAG Pipelines](https://newsletter.theaiedge.io/p/how-to-optimize-your-rag-pipelines)\n",
    "  \n",
    "\n",
    "In the context of this hands-on, we will try different technique to optimize Query and Retrieval.\n",
    "Then compared the performance of these two techniques."
   ]
  },
  {
   "attachments": {
    "rag.png": {
     "image/png": "[encoded data removed]"
    }
   },
   "cell_type": "markdown",
   "metadata": {},
   "source": [
    "![rag.png](attachment:rag.png)"
   ]
  },
  {
   "cell_type": "code",
   "execution_count": null,
   "metadata": {},
   "outputs": [],
   "source": [
    "import os\n",
    "from dotenv import load_dotenv\n",
    "load_dotenv(\".env\")\n",
    "\n",
    "# these variables are required to initialize Langchain AzureChatOpenAI instance\n",
    "required_env_vars = [\n",
    "    \"AZURE_OPENAI_API_KEY\",\n",
    "    \"AZURE_OPENAI_API_VERSION\",\n",
    "    \"AZURE_OPENAI_ENDPOINT\",\n",
    "    \"AZURE_OPENAI_MODEL\",\n",
    "    \"AZURE_OPENAI_DEPLOYMENT_NAME\",\n",
    "    \"AZURE_OPENAI_EMBEDDING_MODEL\",\n",
    "    \"AZURE_OPENAI_EMBEDDING_DEPLOYMENT_NAME\",\n",
    "]\n",
    "\n",
    "for var in required_env_vars:\n",
    "    if os.environ.get(var) is None:\n",
    "        raise Exception(f\"Missing `{var}` environment variable\")\n",
    "\n",
    "\n",
    "api_key = os.environ.get(\"AZURE_OPENAI_API_KEY\", \"\")\n",
    "api_version=os.environ.get(\"AZURE_OPENAI_API_VERSION\", \"2023-03-15-preview\")\n",
    "azure_endpoint=os.environ.get(\"AZURE_OPENAI_ENDPOINT\", \"https://public-api.grabgpt.managed.catwalk-k8s.stg-myteksi.com\")\n",
    "deployment_name=os.environ.get(\"AZURE_OPENAI_DEPLOYMENT_NAME\", \"gpt-4-turbo\")\n",
    "model=os.environ.get(\"AZURE_OPENAI_MODEL\", \"gpt-4-turbo\")\n",
    "embedding_model=os.environ.get(\"AZURE_OPENAI_EMBEDDING_MODEL\", \"text-embedding-3-large\")\n",
    "embedding_deployment_name=os.environ.get(\"AZURE_OPENAI_EMBEDDING_DEPLOYMENT_NAME\", \"text-embedding-3-large\")"
   ]
  },
  {
   "cell_type": "code",
   "execution_count": null,
   "metadata": {},
   "outputs": [],
   "source": [
    "from typing import Dict, Any, List\n",
    "from langchain.callbacks.base import BaseCallbackHandler\n",
    "\n",
    "class LoggingHandler(BaseCallbackHandler):\n",
    "    def on_chain_start(\n",
    "        self, serialized: Dict[str, Any], inputs: Dict[str, Any], **kwargs\n",
    "    ) -> None:\n",
    "        print(f\"Chain {serialized.get('name')} started\")\n",
    "\n",
    "    def on_chain_end(self, outputs: Dict[str, Any], **kwargs) -> None:\n",
    "        print(f\"Chain ended, outputs: {outputs}\")"
   ]
  },
  {
   "cell_type": "code",
   "execution_count": null,
   "metadata": {},
   "outputs": [],
   "source": [
    "from langchain.prompts import ChatPromptTemplate\n",
    "from langchain.docstore.document import Document\n",
    "from langchain.pydantic_v1 import BaseModel, Field\n",
    "from langchain.chat_models import AzureChatOpenAI\n",
    "\n",
    "from langchain_core.output_parsers import JsonOutputParser\n",
    "from langchain_core.runnables import RunnableSequence\n",
    "\n",
    "VALIDATE_SYSTEM_PROMPT = \"\"\"\n",
    "You are an expert in evaluating document. You will be given a query and a document content. Your task is to evaluate if the document's content is related to the query. Provide a confidence score for the evaluation.\n",
    "\n",
    "query: {query}\n",
    "document content: {document_content}\n",
    "\n",
    "{format_instruction}\\n\n",
    "\"\"\"\n",
    "\n",
    "class ResponseModel(BaseModel):\n",
    "    confidence: int = Field(\n",
    "        description=\"score of the evaluation, higher score means higher confidence in the evaluation, value must be from 0 to 5\"\n",
    "    )\n",
    "    related: bool = Field(\n",
    "        description=\"evaluate if the document's content is related to the query\"\n",
    "    )\n",
    "\n",
    "\n",
    "llm = AzureChatOpenAI(\n",
    "    api_key=api_key,\n",
    "    api_version=api_version,\n",
    "    azure_deployment=deployment_name,\n",
    ")\n",
    "\n",
    "\n",
    "def validate_candidate(query: str, document: Document) -> ResponseModel:\n",
    "    parser = JsonOutputParser(pydantic_object=ResponseModel)\n",
    "\n",
    "    validate_prompt = ChatPromptTemplate.from_messages(\n",
    "        messages=[\n",
    "            (\"system\", VALIDATE_SYSTEM_PROMPT),\n",
    "        ]\n",
    "    ).partial(format_instruction=parser.get_format_instructions())\n",
    "\n",
    "    validate_chain = RunnableSequence(\n",
    "        validate_prompt,\n",
    "        llm,\n",
    "        parser,\n",
    "    )\n",
    "    response = validate_chain.invoke(\n",
    "        {\"query\": query, \"document_content\": document.page_content}\n",
    "    )\n",
    "    return response"
   ]
  },
  {
   "cell_type": "code",
   "execution_count": null,
   "metadata": {},
   "outputs": [],
   "source": [
    "from langchain.vectorstores import Chroma\n",
    "from langchain.embeddings import AzureOpenAIEmbeddings\n",
    "\n",
    "embedding = AzureOpenAIEmbeddings(\n",
    "    api_key=api_key,\n",
    "    api_version=api_version,\n",
    "    azure_deployment=embedding_deployment_name,\n",
    ")\n",
    "\n",
    "persist_directory = \"./docs/chroma\"\n",
    "vectordb = Chroma(\n",
    "    persist_directory=persist_directory,\n",
    "    embedding_function=embedding,\n",
    ")\n",
    "vectordb._collection.count()"
   ]
  },
  {
   "cell_type": "markdown",
   "metadata": {},
   "source": [
    "### Query-optimize:\n",
    "In the context of this hands-on, we will try `naive query`, `Hypothetical Document Embeddings (HyDE)` and `Multi-Query` techniques to optimize the query."
   ]
  },
  {
   "cell_type": "code",
   "execution_count": null,
   "metadata": {},
   "outputs": [],
   "source": [
    "from langchain_core.runnables import RunnableSequence, RunnablePassthrough\n",
    "\n",
    "naive_prompt_chain = lambda x: x[\"input\"]\n",
    "\n",
    "retriever_chain = RunnableSequence(\n",
    "    vectordb.as_retriever(),\n",
    "    {\"candidates\": RunnablePassthrough()}\n",
    ")"
   ]
  },
  {
   "cell_type": "markdown",
   "metadata": {},
   "source": [
    "### Naive query\n",
    "In this technique, the RAG model will pass the question directly to the retriever to find the relevant documents"
   ]
  },
  {
   "cell_type": "code",
   "execution_count": null,
   "metadata": {},
   "outputs": [],
   "source": [
    "naive_query_retriever_chain = RunnableSequence(\n",
    "    naive_prompt_chain,\n",
    "    retriever_chain,\n",
    ").with_config(callbacks=[LoggingHandler()])\n",
    "\n",
    "question = \"How to resolve Fail to push image error while running cop_image:envoy-base stage in ci/cd pipeline?\"\n",
    "response = naive_query_retriever_chain.invoke({\"input\": question})\n",
    "for candidate in response[\"candidates\"]:\n",
    "    validate_response = validate_candidate(query=question, document=candidate)\n",
    "    print(validate_response)\n",
    "    print(candidate.metadata)\n",
    "    print(candidate.page_content[:1000])\n",
    "\n"
   ]
  },
  {
   "cell_type": "markdown",
   "metadata": {},
   "source": [
    "### Hypothetical Document Embeddings (HyDE)\n",
    "\n",
    "In this technique, the RAG model will generate hypothetical answers (using LLM), then the retriever will find the relevant documents based on these hypothetical answers."
   ]
  },
  {
   "cell_type": "code",
   "execution_count": null,
   "metadata": {},
   "outputs": [],
   "source": [
    "from langchain.prompts import ChatPromptTemplate\n",
    "\n",
    "from langchain_core.output_parsers import StrOutputParser\n",
    "from langchain_core.runnables import RunnableSequence\n",
    "\n",
    "HYDE_SYSTEM_PROMPT = \"\"\"\n",
    "Use your expertise to answer the following question. Provide a brief answer to the question, the answer should be concise and informative and contains all important keywords.\n",
    "\"\"\"\n",
    "\n",
    "hyde_prompt = ChatPromptTemplate.from_messages(\n",
    "    messages=[\n",
    "        (\"system\", HYDE_SYSTEM_PROMPT),\n",
    "        (\"user\", \"{input}\"),\n",
    "    ]\n",
    ")\n",
    "\n",
    "llm = AzureChatOpenAI(\n",
    "    api_key=api_key,\n",
    "    api_version=api_version,\n",
    "    azure_deployment=deployment_name,\n",
    ")\n",
    "hyde_prompt_chain = RunnableSequence(\n",
    "    hyde_prompt,\n",
    "    llm,\n",
    "    StrOutputParser(),\n",
    ")"
   ]
  },
  {
   "cell_type": "code",
   "execution_count": null,
   "metadata": {},
   "outputs": [],
   "source": [
    "from langchain.globals import set_verbose\n",
    "\n",
    "hyde_retriever_chain = RunnableSequence(\n",
    "    hyde_prompt_chain,\n",
    "    retriever_chain,\n",
    ").with_config(callbacks=[LoggingHandler()])\n",
    "\n",
    "question = \"How to resolve Fail to push image error while running cop_image:envoy-base stage in ci/cd pipeline?\"\n",
    "response = hyde_retriever_chain.invoke({\"input\": question})\n",
    "for candidate in response[\"candidates\"]:\n",
    "    validate_response = validate_candidate(query=question, document=candidate)\n",
    "    print(validate_response)\n",
    "    print(candidate.metadata)\n",
    "    print(candidate.page_content[:1000])\n",
    "\n",
    "set_verbose(False)\n"
   ]
  },
  {
   "cell_type": "markdown",
   "metadata": {},
   "source": [
    "### Multi-Query\n",
    "\n",
    "In this technique, the RAG model will reword the question into multiple questions, then the retriever will find the relevant documents based on these questions."
   ]
  },
  {
   "cell_type": "code",
   "execution_count": null,
   "metadata": {},
   "outputs": [],
   "source": [
    "from langchain.prompts import ChatPromptTemplate\n",
    "from langchain.pydantic_v1 import BaseModel, Field\n",
    "\n",
    "from langchain_core.output_parsers import JsonOutputParser\n",
    "\n",
    "MULTI_QUERY_SYSTEM_PROMPT = \"\"\"\n",
    "Rewrite the following question into 3 different question, each question must have the same meaning as the original question. Don't change the meaning of the question.\n",
    "\n",
    "{format_instruction}\n",
    "\"\"\"\n",
    "\n",
    "class MultiQueryResponseModel(BaseModel):\n",
    "    questions: List[str] = Field(description=\"list of rewritten questions\")\n",
    "\n",
    "parser = JsonOutputParser(pydantic_object=MultiQueryResponseModel)\n",
    "\n",
    "multi_query_prompt = ChatPromptTemplate.from_messages(\n",
    "    messages=[\n",
    "        (\"system\", MULTI_QUERY_SYSTEM_PROMPT),\n",
    "        (\"user\", \"{input}\"),\n",
    "    ],\n",
    ").partial(format_instruction=parser.get_format_instructions())\n",
    "\n",
    "llm = AzureChatOpenAI(\n",
    "    api_key=api_key,\n",
    "    api_version=api_version,\n",
    "    azure_deployment=deployment_name,\n",
    ")\n",
    "\n",
    "multi_query_prompt_chain = RunnableSequence(\n",
    "    multi_query_prompt,\n",
    "    llm,\n",
    "    parser,\n",
    ")"
   ]
  },
  {
   "cell_type": "code",
   "execution_count": null,
   "metadata": {},
   "outputs": [],
   "source": [
    "from langchain_core.runnables import RunnableLambda\n",
    "\n",
    "multi_query_retriever_chain = RunnableSequence(\n",
    "    multi_query_prompt_chain,\n",
    "    # output of previous chain is a list of questions, now, retrieve documents for each question\n",
    "    RunnableLambda(\n",
    "        (\n",
    "            lambda x: [\n",
    "                retriever_chain.invoke(x[\"questions\"][i])\n",
    "                for i in range(len(x[\"questions\"]))\n",
    "            ]\n",
    "        )\n",
    "    ),\n",
    ").with_config(callbacks=[LoggingHandler()])\n",
    "\n",
    "question = \"How to resolve Fail to push image error while running cop_image:envoy-base stage in ci/cd pipeline?\"\n",
    "response = multi_query_retriever_chain.invoke({\"input\": question})\n",
    "for query in response:\n",
    "    for candidate in query[\"candidates\"]:\n",
    "        validate_response = validate_candidate(query=question, document=candidate)\n",
    "        print(validate_response)\n",
    "        print(candidate.metadata)\n",
    "        print(candidate.page_content[:1000])\n"
   ]
  },
  {
   "cell_type": "markdown",
   "metadata": {},
   "source": [
    "### Retrieval-optimize\n",
    "\n",
    "In the context of this hands-on, we will try the `naive retrieval` and ` Maximal Marginal Relevant (MMR)` techniques to optimize the retrieval."
   ]
  },
  {
   "cell_type": "markdown",
   "metadata": {},
   "source": [
    "### Naive retrieval"
   ]
  },
  {
   "cell_type": "code",
   "execution_count": null,
   "metadata": {},
   "outputs": [],
   "source": [
    "from langchain_core.runnables import RunnableSequence, RunnablePassthrough, RunnablePick\n",
    "\n",
    "naive_retriever = RunnableSequence(\n",
    "    RunnablePick(\"input\"),\n",
    "    vectordb.as_retriever(),\n",
    "    {\"candidates\": RunnablePassthrough()}\n",
    ")"
   ]
  },
  {
   "cell_type": "code",
   "execution_count": null,
   "metadata": {},
   "outputs": [],
   "source": [
    "question = \"How to resolve Fail to push image error while running cop_image:envoy-base stage in ci/cd pipeline?\"\n",
    "response = naive_retriever.invoke({\"input\": question})"
   ]
  },
  {
   "cell_type": "code",
   "execution_count": null,
   "metadata": {},
   "outputs": [],
   "source": [
    "for candidate in response[\"candidates\"]:\n",
    "    validate_response = validate_candidate(query=question, document=candidate)\n",
    "    print(validate_response)\n",
    "    candidate.metadata"
   ]
  },
  {
   "cell_type": "markdown",
   "metadata": {},
   "source": [
    "### Maximal Marginal Relevant (MMR)"
   ]
  },
  {
   "cell_type": "code",
   "execution_count": null,
   "metadata": {},
   "outputs": [],
   "source": [
    "mmr_retriever = RunnableSequence(\n",
    "    RunnablePick(\"input\"),\n",
    "    vectordb.as_retriever(\n",
    "        search_type=\"mmr\", search_kwargs={\"k\": 4, \"lambda_mult\": 0.25}\n",
    "    ),\n",
    "    {\"candidates\": RunnablePassthrough()},\n",
    ")"
   ]
  },
  {
   "cell_type": "code",
   "execution_count": null,
   "metadata": {},
   "outputs": [],
   "source": [
    "mmr_response = mmr_retriever.invoke({\"input\": question})"
   ]
  },
  {
   "cell_type": "code",
   "execution_count": null,
   "metadata": {},
   "outputs": [],
   "source": [
    "for candidate in mmr_response[\"candidates\"]:\n",
    "    validate_response = validate_candidate(query=question, document=candidate)\n",
    "    print(validate_response)\n",
    "    print(candidate.metadata)"
   ]
  }
 ],
 "metadata": {
  "kernelspec": {
   "display_name": "Python 3",
   "language": "python",
   "name": "python3"
  },
  "language_info": {
   "codemirror_mode": {
    "name": "ipython",
    "version": 3
   },
   "file_extension": ".py",
   "mimetype": "text/x-python",
   "name": "python",
   "nbconvert_exporter": "python",
   "pygments_lexer": "ipython3",
   "version": "3.10.14"
  }
 },
 "nbformat": 4,
 "nbformat_minor": 2
}
